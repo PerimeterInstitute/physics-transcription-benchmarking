{
 "cells": [
  {
   "cell_type": "code",
   "execution_count": 1,
   "metadata": {},
   "outputs": [],
   "source": [
    "from SummaryTable import create_summary_table"
   ]
  },
  {
   "cell_type": "code",
   "execution_count": 2,
   "metadata": {},
   "outputs": [
    {
     "name": "stdout",
     "output_type": "stream",
     "text": [
      "<table> \n",
      "    <tr> \n",
      "        <th>Model Class</th> \n",
      "        <th>Model Type</th> \n",
      "        <th>Average Word Error Rate</th> \n",
      "        <th>Average Match Error Rate</th> \n",
      "        <th>Average Word Information Lost</th> \n",
      "        <th>Average Word Information Preserved</th> \n",
      "        <th>Average Character Error Rate</th> \n",
      "    </tr> \n",
      "    <tr> \n",
      "        <td>WhisperOpenAI</td> \n",
      "        <td>medium</td> \n",
      "        <td>0.2401174168297456</td> \n",
      "        <td>0.22261502338137004</td> \n",
      "        <td>0.3368759861507646</td> \n",
      "        <td>0.6631240138492355</td> \n",
      "        <td>0.05458337842111179</td> \n",
      "    </tr> \n",
      "    <tr> \n",
      "        <td>WhisperPI</td> \n",
      "        <td>medium</td> \n",
      "        <td>0.24290063057186342</td> \n",
      "        <td>0.22268423881531893</td> \n",
      "        <td>0.33102270069674405</td> \n",
      "        <td>0.6689772993032559</td> \n",
      "        <td>0.06708241975863768</td> \n",
      "    </tr> \n",
      "    <tr> \n",
      "        <td>WhisperOpenAI</td> \n",
      "        <td>medium</td> \n",
      "        <td>0.2401174168297456</td> \n",
      "        <td>0.22261502338137004</td> \n",
      "        <td>0.3368759861507646</td> \n",
      "        <td>0.6631240138492355</td> \n",
      "        <td>0.05458337842111179</td> \n",
      "    </tr> \n",
      "</table> \n",
      "<p>Last updated: July 04, 2023 - 12:31:48</p>\n",
      "\n"
     ]
    }
   ],
   "source": [
    "table = create_summary_table(\"./results/\")\n",
    "print(table)"
   ]
  }
 ],
 "metadata": {
  "kernelspec": {
   "display_name": "Python 3",
   "language": "python",
   "name": "python3"
  },
  "language_info": {
   "codemirror_mode": {
    "name": "ipython",
    "version": 3
   },
   "file_extension": ".py",
   "mimetype": "text/x-python",
   "name": "python",
   "nbconvert_exporter": "python",
   "pygments_lexer": "ipython3",
   "version": "3.10.6"
  },
  "orig_nbformat": 4
 },
 "nbformat": 4,
 "nbformat_minor": 2
}
