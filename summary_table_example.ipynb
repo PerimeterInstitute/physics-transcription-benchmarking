{
 "cells": [
  {
   "cell_type": "code",
   "execution_count": 1,
   "metadata": {},
   "outputs": [],
   "source": [
    "from SummaryTable import create_summary_table"
   ]
  },
  {
   "cell_type": "code",
   "execution_count": 2,
   "metadata": {},
   "outputs": [
    {
     "name": "stdout",
     "output_type": "stream",
     "text": [
      "['Model Name', 'Average Word Error Rate', 'Average Match Error Rate', 'Average Word Information Lost', 'Average Word Information Preseved', 'Average Character Error Rate']\n",
      "['whisper_openai_medium', 0.2401174168297456, 0.22261502338137004, 0.3368759861507646, 0.6631240138492355, 0.05458337842111179]\n",
      "['whisper_pi_medium', 0.24290063057186342, 0.22268423881531893, 0.33102270069674405, 0.6689772993032559, 0.06708241975863768]\n",
      "['whisper_large', 0.2401174168297456, 0.22261502338137004, 0.3368759861507646, 0.6631240138492355, 0.05458337842111179]\n"
     ]
    }
   ],
   "source": [
    "table = create_summary_table(\"./results/\")\n",
    "for row in table:\n",
    "    print(row)"
   ]
  }
 ],
 "metadata": {
  "kernelspec": {
   "display_name": "Python 3",
   "language": "python",
   "name": "python3"
  },
  "language_info": {
   "codemirror_mode": {
    "name": "ipython",
    "version": 3
   },
   "file_extension": ".py",
   "mimetype": "text/x-python",
   "name": "python",
   "nbconvert_exporter": "python",
   "pygments_lexer": "ipython3",
   "version": "3.10.6"
  },
  "orig_nbformat": 4
 },
 "nbformat": 4,
 "nbformat_minor": 2
}
