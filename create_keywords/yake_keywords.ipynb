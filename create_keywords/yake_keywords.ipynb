{
 "cells": [
  {
   "cell_type": "code",
   "execution_count": null,
   "metadata": {},
   "outputs": [],
   "source": [
    "import yake"
   ]
  },
  {
   "cell_type": "code",
   "execution_count": null,
   "metadata": {},
   "outputs": [],
   "source": [
    "text = '''\n",
    "Lucien Hardy is a theoretical physicist working at the intersection of the two pillars of modern physics – general relativity and quantum mechanics – in the quest for a single unifying theory: quantum gravity. Hardy joins co-hosts Lauren and Colin for a conversation about the puzzles that have driven him throughout his career, including the past 20 as a Perimeter faculty member. Hardy recalls the radio program that first sparked his childhood curiosity about the universe, describes his operational approach to big quantum puzzles, and explains the paradox that bears his name (as well as a second, somewhat-tongue-in-cheek paradox devised by his wife).\n",
    "'''"
   ]
  },
  {
   "cell_type": "code",
   "execution_count": null,
   "metadata": {},
   "outputs": [],
   "source": [
    "kw_extractor = yake.KeywordExtractor()\n",
    "keywords = kw_extractor.extract_keywords(text)\n",
    "\n",
    "for kw in keywords:\n",
    "    print(kw)"
   ]
  }
 ],
 "metadata": {
  "kernelspec": {
   "display_name": "Python 3",
   "language": "python",
   "name": "python3"
  },
  "language_info": {
   "codemirror_mode": {
    "name": "ipython",
    "version": 3
   },
   "file_extension": ".py",
   "mimetype": "text/x-python",
   "name": "python",
   "nbconvert_exporter": "python",
   "pygments_lexer": "ipython3",
   "version": "3.10.12"
  },
  "orig_nbformat": 4
 },
 "nbformat": 4,
 "nbformat_minor": 2
}
