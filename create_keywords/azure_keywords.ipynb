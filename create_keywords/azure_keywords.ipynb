{
 "cells": [
  {
   "cell_type": "code",
   "execution_count": 7,
   "metadata": {},
   "outputs": [],
   "source": [
    "from azure.core.credentials import AzureKeyCredential\n",
    "from azure.ai.textanalytics import TextAnalyticsClient\n",
    "\n",
    "endpoint = \"\"\n",
    "key = \"\""
   ]
  },
  {
   "cell_type": "code",
   "execution_count": 8,
   "metadata": {},
   "outputs": [],
   "source": [
    "text_analytics_client = TextAnalyticsClient(endpoint, AzureKeyCredential(key))"
   ]
  },
  {
   "cell_type": "code",
   "execution_count": 9,
   "metadata": {},
   "outputs": [],
   "source": [
    "text = []\n",
    "text.append(\n",
    "'''\n",
    "Lucien Hardy is a theoretical physicist working at the intersection of the two pillars of modern physics – general relativity and quantum mechanics – in the quest for a single unifying theory: quantum gravity. Hardy joins co-hosts Lauren and Colin for a conversation about the puzzles that have driven him throughout his career, including the past 20 as a Perimeter faculty member. Hardy recalls the radio program that first sparked his childhood curiosity about the universe, describes his operational approach to big quantum puzzles, and explains the paradox that bears his name (as well as a second, somewhat-tongue-in-cheek paradox devised by his wife).\n",
    "''')"
   ]
  },
  {
   "cell_type": "code",
   "execution_count": 10,
   "metadata": {},
   "outputs": [
    {
     "name": "stdout",
     "output_type": "stream",
     "text": [
      "['\\nLucien Hardy is a theoretical physicist working at the intersection of the two pillars of modern physics – general relativity and quantum mechanics – in the quest for a single unifying theory: quantum gravity. Hardy joins co-hosts Lauren and Colin for a conversation about the puzzles that have driven him throughout his career, including the past 20 as a Perimeter faculty member. Hardy recalls the radio program that first sparked his childhood curiosity about the universe, describes his operational approach to big quantum puzzles, and explains the paradox that bears his name (as well as a second, somewhat-tongue-in-cheek paradox devised by his wife).\\n']\n"
     ]
    }
   ],
   "source": [
    "print(text)"
   ]
  },
  {
   "cell_type": "code",
   "execution_count": 11,
   "metadata": {},
   "outputs": [
    {
     "name": "stdout",
     "output_type": "stream",
     "text": [
      "Key phrases in article #1: single unifying theory, Perimeter faculty member, big quantum puzzles, quantum mechanics, quantum gravity, theoretical physicist, two pillars, modern physics, general relativity, radio program, childhood curiosity, operational approach, cheek paradox, Lucien Hardy, intersection, quest, hosts, Lauren, Colin, conversation, career, universe, name, wife\n"
     ]
    }
   ],
   "source": [
    "result = text_analytics_client.extract_key_phrases(text)\n",
    "for idx, doc in enumerate(result):\n",
    "    if not doc.is_error:\n",
    "        print(\"Key phrases in article #{}: {}\".format(\n",
    "            idx + 1,\n",
    "            \", \".join(doc.key_phrases)\n",
    "        ))"
   ]
  },
  {
   "cell_type": "code",
   "execution_count": 12,
   "metadata": {},
   "outputs": [
    {
     "name": "stdout",
     "output_type": "stream",
     "text": [
      "['single unifying theory', 'Perimeter faculty member', 'big quantum puzzles', 'quantum mechanics', 'quantum gravity', 'theoretical physicist', 'two pillars', 'modern physics', 'general relativity', 'radio program', 'childhood curiosity', 'operational approach', 'cheek paradox', 'Lucien Hardy', 'intersection', 'quest', 'hosts', 'Lauren', 'Colin', 'conversation', 'career', 'universe', 'name', 'wife']\n"
     ]
    }
   ],
   "source": [
    "print(result[0][\"key_phrases\"])"
   ]
  }
 ],
 "metadata": {
  "kernelspec": {
   "display_name": "Python 3",
   "language": "python",
   "name": "python3"
  },
  "language_info": {
   "codemirror_mode": {
    "name": "ipython",
    "version": 3
   },
   "file_extension": ".py",
   "mimetype": "text/x-python",
   "name": "python",
   "nbconvert_exporter": "python",
   "pygments_lexer": "ipython3",
   "version": "3.10.12"
  },
  "orig_nbformat": 4
 },
 "nbformat": 4,
 "nbformat_minor": 2
}
