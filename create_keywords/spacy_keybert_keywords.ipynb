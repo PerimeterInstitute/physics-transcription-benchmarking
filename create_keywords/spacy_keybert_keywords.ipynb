{
 "cells": [
  {
   "cell_type": "code",
   "execution_count": 1,
   "metadata": {},
   "outputs": [
    {
     "name": "stderr",
     "output_type": "stream",
     "text": [
      "/nfs/unity/unixhome/rmohl/.local/lib/python3.10/site-packages/tqdm/auto.py:21: TqdmWarning: IProgress not found. Please update jupyter and ipywidgets. See https://ipywidgets.readthedocs.io/en/stable/user_install.html\n",
      "  from .autonotebook import tqdm as notebook_tqdm\n"
     ]
    }
   ],
   "source": [
    "import spacy\n",
    "import pytextrank as _\n",
    "from keybert import KeyBERT"
   ]
  },
  {
   "cell_type": "code",
   "execution_count": 2,
   "metadata": {},
   "outputs": [],
   "source": [
    "# setting up NLP libaries\n",
    "nlp = spacy.load(\"en_core_web_lg\")\n",
    "nlp.add_pipe(\"textrank\")\n",
    "kb_model = KeyBERT()"
   ]
  },
  {
   "cell_type": "code",
   "execution_count": 5,
   "metadata": {},
   "outputs": [],
   "source": [
    "text = '''\n",
    "Lucien Hardy is a theoretical physicist working at the intersection of the two pillars of modern physics – general relativity and quantum mechanics – in the quest for a single unifying theory: quantum gravity. Hardy joins co-hosts Lauren and Colin for a conversation about the puzzles that have driven him throughout his career, including the past 20 as a Perimeter faculty member. Hardy recalls the radio program that first sparked his childhood curiosity about the universe, describes his operational approach to big quantum puzzles, and explains the paradox that bears his name (as well as a second, somewhat-tongue-in-cheek paradox devised by his wife).\n",
    "'''"
   ]
  },
  {
   "cell_type": "code",
   "execution_count": 6,
   "metadata": {},
   "outputs": [
    {
     "name": "stdout",
     "output_type": "stream",
     "text": [
      "['physicist', 'quantum', 'hardy', 'universe', 'lucien']\n",
      "['big quantum puzzles', 'quantum gravity', 'quantum', 'general relativity', 'modern physics', 'cheek', 'second', 'a Perimeter faculty member', 'Perimeter', 'mechanics', 'a single unifying theory', 'Colin', 'Lauren', 'hosts', 'Lucien Hardy', 'his operational approach', '-', 'the paradox', 'his wife', 'the puzzles', 'co', 'his childhood curiosity', 'Hardy', 'his name', 'the quest', 'his career', 'the radio program', 'a theoretical physicist', 'a conversation', 'the universe', '\\nLucien Hardy', 'the intersection', 'the past 20', 'the two pillars']\n"
     ]
    }
   ],
   "source": [
    "nlp_text = nlp(text)\n",
    "\n",
    "array = [word[0] for word in kb_model.extract_keywords(text)]\n",
    "\n",
    "print(array)\n",
    "    \n",
    "print([phrase.text for phrase in nlp_text._.phrases if phrase.rank > 0])"
   ]
  }
 ],
 "metadata": {
  "kernelspec": {
   "display_name": "Python 3",
   "language": "python",
   "name": "python3"
  },
  "language_info": {
   "codemirror_mode": {
    "name": "ipython",
    "version": 3
   },
   "file_extension": ".py",
   "mimetype": "text/x-python",
   "name": "python",
   "nbconvert_exporter": "python",
   "pygments_lexer": "ipython3",
   "version": "3.10.12"
  },
  "orig_nbformat": 4
 },
 "nbformat": 4,
 "nbformat_minor": 2
}
