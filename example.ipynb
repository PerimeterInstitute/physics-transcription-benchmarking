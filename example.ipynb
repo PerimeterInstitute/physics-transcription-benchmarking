{
 "cells": [
  {
   "cell_type": "code",
   "execution_count": 1,
   "metadata": {},
   "outputs": [],
   "source": [
    "from Test import Test\n",
    "from models.WhisperOpenAI import WhisperOpenAI\n",
    "from models.WhisperPI import WhisperPI"
   ]
  },
  {
   "cell_type": "code",
   "execution_count": 2,
   "metadata": {},
   "outputs": [],
   "source": [
    "model_1 = WhisperOpenAI(\"whisper_openai_medium\",\n",
    "                  {\n",
    "                    \"model_type\": \"medium\",\n",
    "                    \"language\": \"en\"\n",
    "                  }\n",
    ")\n",
    "\n",
    "model_2 = WhisperPI(\"whisper_pi_medium\",\n",
    "                  {\n",
    "                    \"model_type\": \"medium\",\n",
    "                    \"language\": \"en\"\n",
    "                  }\n",
    ")"
   ]
  },
  {
   "cell_type": "code",
   "execution_count": 3,
   "metadata": {},
   "outputs": [
    {
     "name": "stderr",
     "output_type": "stream",
     "text": [
      "/nfs/unity/unixhome/rmohl/.local/lib/python3.10/site-packages/whisper/transcribe.py:114: UserWarning: FP16 is not supported on CPU; using FP32 instead\n",
      "  warnings.warn(\"FP16 is not supported on CPU; using FP32 instead\")\n",
      "/nfs/unity/unixhome/rmohl/.local/lib/python3.10/site-packages/whisper/transcribe.py:114: UserWarning: FP16 is not supported on CPU; using FP32 instead\n",
      "  warnings.warn(\"FP16 is not supported on CPU; using FP32 instead\")\n",
      "/nfs/unity/unixhome/rmohl/.local/lib/python3.10/site-packages/whisper/transcribe.py:114: UserWarning: FP16 is not supported on CPU; using FP32 instead\n",
      "  warnings.warn(\"FP16 is not supported on CPU; using FP32 instead\")\n",
      "/nfs/unity/unixhome/rmohl/.local/lib/python3.10/site-packages/pi_whisper/transcribe.py:114: UserWarning: FP16 is not supported on CPU; using FP32 instead\n",
      "  warnings.warn(\"FP16 is not supported on CPU; using FP32 instead\")\n",
      "/nfs/unity/unixhome/rmohl/.local/lib/python3.10/site-packages/pi_whisper/transcribe.py:114: UserWarning: FP16 is not supported on CPU; using FP32 instead\n",
      "  warnings.warn(\"FP16 is not supported on CPU; using FP32 instead\")\n",
      "/nfs/unity/unixhome/rmohl/.local/lib/python3.10/site-packages/pi_whisper/transcribe.py:114: UserWarning: FP16 is not supported on CPU; using FP32 instead\n",
      "  warnings.warn(\"FP16 is not supported on CPU; using FP32 instead\")\n"
     ]
    }
   ],
   "source": [
    "test = Test([model_1, model_2], dataset_path=\"dev\")\n"
   ]
  },
  {
   "cell_type": "code",
   "execution_count": 4,
   "metadata": {},
   "outputs": [
    {
     "name": "stdout",
     "output_type": "stream",
     "text": [
      "{'whisper_openai_medium': {'test_details': {'model_info': {'class_name': 'WhisperOpenAI', 'model_name': 'whisper_openai_medium', 'model_type': 'medium', 'options': {'language': 'en'}}, 'system_info': {'system': 'Linux', 'release': '5.15.0-1040-azure', 'version': '#47-Ubuntu SMP Thu Jun 1 19:38:24 UTC 2023', 'machine': 'x86_64', 'processor': 'x86_64'}, 'cpu_info': {'physical_cores': 2, 'total_cores': 4}, 'memory_info': {'total_memory': 16767574016, 'available_memory': 7498702848, 'used_memory': 8912809984}}, 'test_results': {'dustin_lang': {'start_datetime': '06/30/2023 15:25:17', 'load_time': '0:00:15.612417', 'transcribe_time': '0:00:52.003157', 'accuracy_data': {'word_error_rate': 0.1917808219178082, 'match_error_rate': 0.17721518987341772, 'word_information_lost': 0.25799086757990863, 'word_information_preserved': 0.7420091324200914, 'character_error_rate': 0.023305084745762712}}, 'erik_schnetter': {'start_datetime': '06/30/2023 15:26:07', 'load_time': '0:00:15.612417', 'transcribe_time': '0:00:49.105517', 'accuracy_data': {'word_error_rate': 0.19047619047619047, 'match_error_rate': 0.17647058823529413, 'word_information_lost': 0.2679738562091504, 'word_information_preserved': 0.7320261437908496, 'character_error_rate': 0.019178082191780823}}, 'lucien_hardy': {'start_datetime': '06/30/2023 15:28:45', 'load_time': '0:00:15.612417', 'transcribe_time': '0:02:38.486748', 'accuracy_data': {'word_error_rate': 0.3380952380952381, 'match_error_rate': 0.3141592920353982, 'word_information_lost': 0.4846632346632347, 'word_information_preserved': 0.5153367653367653, 'character_error_rate': 0.12126696832579185}}}, 'test_summary': {'word_error_rate': 0.2401174168297456, 'match_error_rate': 0.22261502338137004, 'word_information_lost': 0.3368759861507646, 'word_information_preserved': 0.6631240138492355, 'character_error_rate': 0.05458337842111179}}, 'whisper_pi_medium': {'test_details': {'model_info': {'class_name': 'WhisperPI', 'model_name': 'whisper_pi_medium', 'model_type': 'medium', 'options': {'language': 'en'}}, 'system_info': {'system': 'Linux', 'release': '5.15.0-1040-azure', 'version': '#47-Ubuntu SMP Thu Jun 1 19:38:24 UTC 2023', 'machine': 'x86_64', 'processor': 'x86_64'}, 'cpu_info': {'physical_cores': 2, 'total_cores': 4}, 'memory_info': {'total_memory': 16767574016, 'available_memory': 7423873024, 'used_memory': 8987635712}}, 'test_results': {'dustin_lang': {'start_datetime': '06/30/2023 15:29:37', 'load_time': '0:00:15.655624', 'transcribe_time': '0:00:51.728209', 'accuracy_data': {'word_error_rate': 0.2191780821917808, 'match_error_rate': 0.1951219512195122, 'word_information_lost': 0.272302038088874, 'word_information_preserved': 0.727697961911126, 'character_error_rate': 0.05084745762711865}}, 'erik_schnetter': {'start_datetime': '06/30/2023 15:30:25', 'load_time': '0:00:15.655624', 'transcribe_time': '0:00:48.430653', 'accuracy_data': {'word_error_rate': 0.19047619047619047, 'match_error_rate': 0.17647058823529413, 'word_information_lost': 0.2679738562091504, 'word_information_preserved': 0.7320261437908496, 'character_error_rate': 0.019178082191780823}}, 'lucien_hardy': {'start_datetime': '06/30/2023 15:33:00', 'load_time': '0:00:15.655624', 'transcribe_time': '0:02:34.828269', 'accuracy_data': {'word_error_rate': 0.319047619047619, 'match_error_rate': 0.29646017699115046, 'word_information_lost': 0.45279220779220775, 'word_information_preserved': 0.5472077922077923, 'character_error_rate': 0.13122171945701358}}}, 'test_summary': {'word_error_rate': 0.24290063057186342, 'match_error_rate': 0.22268423881531893, 'word_information_lost': 0.33102270069674405, 'word_information_preserved': 0.6689772993032559, 'character_error_rate': 0.06708241975863768}}}\n"
     ]
    }
   ],
   "source": [
    "print(test.results)"
   ]
  },
  {
   "cell_type": "code",
   "execution_count": 5,
   "metadata": {},
   "outputs": [
    {
     "name": "stdout",
     "output_type": "stream",
     "text": [
      "{'dustin_lang_2-30sec.mp4': \" Okay, so why we often need Markov Chain Monte Carlo is that in real life these models and likelihoods are often pretty complicated. So the constraints are kind of complicated and we can't really represent them in analytic form. But you can represent them by drawing samples from the distribution. And MCMC is a way of drawing samples from a probability distribution when you can compute numerically but you can't represent it analytically or can't solve it analytically.\", 'erik_schnetter_1-30sec.mp4': \" It does. Okay. So, every object in Julia has a particular type. For example, the type of A is a double position matrix. It's not just the matrix, it's a double position matrix. If you look to probably the second lecture, I spoke about types and generic programming. Let's just actually look at the result here. The compiler knows that A is a type matrix of float 64.\", 'lucien_hardy_1-2min.mp4': \" Okay, any pure state can be written like that in some basis. And this provides you with, these are complex numbers, you have two n complex numbers. Okay. Then you need to subtract one because of the overall phase, another one because we want to impose normalization. Okay. So a lot of our intuition comes from the special case n equal to two, you know, a qubit. And there's something bad about this special case. We're trying to get an intuition for the shape of state space. Let's see. So if n equals two, k minus two, which is the, well, let me just do all of it. So the, that means k equals four, k minus one, which is the, I can just do this here actually. Let's do it here. So this one, k minus one equals three. You can check my arithmetic. K minus two equals two. So this is all consistent because we know that we have the block ball and the boundary of the block ball has two dimensions in it. And then also, if you look at this here, you get a pure dimension that's two n minus two is also two. Okay. So in the case of the qubit, these two things are the same. Okay. That isn't true usually. Let's take n equals three.\"}\n",
      "{'dustin_lang_2-30sec.mp4': '0:00:52.003157', 'erik_schnetter_1-30sec.mp4': '0:00:49.105517', 'lucien_hardy_1-2min.mp4': '0:02:38.486748'}\n"
     ]
    }
   ],
   "source": [
    "print(model_1.transcription)\n",
    "print(model_1.transcribe_time)"
   ]
  }
 ],
 "metadata": {
  "kernelspec": {
   "display_name": "Python 3",
   "language": "python",
   "name": "python3"
  },
  "language_info": {
   "codemirror_mode": {
    "name": "ipython",
    "version": 3
   },
   "file_extension": ".py",
   "mimetype": "text/x-python",
   "name": "python",
   "nbconvert_exporter": "python",
   "pygments_lexer": "ipython3",
   "version": "3.10.6"
  },
  "orig_nbformat": 4
 },
 "nbformat": 4,
 "nbformat_minor": 2
}
