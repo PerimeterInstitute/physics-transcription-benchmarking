{
 "cells": [
  {
   "cell_type": "code",
   "execution_count": null,
   "metadata": {},
   "outputs": [],
   "source": [
    "from Test import Test\n",
    "from models.WhisperPI import WhisperPI\n",
    "import json"
   ]
  },
  {
   "cell_type": "code",
   "execution_count": null,
   "metadata": {},
   "outputs": [],
   "source": [
    "model = WhisperPI(\"whisper_pi_large\",\n",
    "                  {\n",
    "                    \"model_type\": \"large\",\n",
    "                    \"language\": \"en\"\n",
    "                  }\n",
    ")\n",
    "\n",
    "model_med = WhisperPI(\"whisper_pi_medium\",\n",
    "                  {\n",
    "                    \"model_type\": \"medium\",\n",
    "                    \"language\": \"en\"\n",
    "                  }\n",
    ")"
   ]
  },
  {
   "cell_type": "code",
   "execution_count": null,
   "metadata": {},
   "outputs": [],
   "source": [
    "test = Test([model, model_med], dataset_path=\"dev\")"
   ]
  },
  {
   "cell_type": "code",
   "execution_count": null,
   "metadata": {},
   "outputs": [],
   "source": [
    "jsonObj = json.dumps(test.results, indent=4)\n",
    "with open(\"results.json\", \"w\") as f:\n",
    "    f.write(jsonObj)\n",
    "f.close()"
   ]
  },
  {
   "cell_type": "code",
   "execution_count": null,
   "metadata": {},
   "outputs": [],
   "source": [
    "print(model.transcribe_time)"
   ]
  }
 ],
 "metadata": {
  "kernelspec": {
   "display_name": "Python 3",
   "language": "python",
   "name": "python3"
  },
  "language_info": {
   "codemirror_mode": {
    "name": "ipython",
    "version": 3
   },
   "file_extension": ".py",
   "mimetype": "text/x-python",
   "name": "python",
   "nbconvert_exporter": "python",
   "pygments_lexer": "ipython3",
   "version": "3.10.6"
  },
  "orig_nbformat": 4
 },
 "nbformat": 4,
 "nbformat_minor": 2
}
